{
 "cells": [
  {
   "cell_type": "markdown",
   "metadata": {},
   "source": [
    "# <HR> Risk Analysis Using Mote Carlo Simulation <HR>"
   ]
  },
  {
   "cell_type": "markdown",
   "metadata": {},
   "source": [
    "## Import the required libraries"
   ]
  },
  {
   "cell_type": "code",
   "execution_count": 1,
   "metadata": {},
   "outputs": [],
   "source": [
    "import numpy as np\n",
    "from scipy import stats\n",
    "import matplotlib.pyplot as plt\n",
    "import seaborn as sns\n",
    "%matplotlib inline"
   ]
  },
  {
   "cell_type": "markdown",
   "metadata": {},
   "source": [
    "## Probability Distributions of Uncertain Factors"
   ]
  },
  {
   "cell_type": "code",
   "execution_count": 2,
   "metadata": {},
   "outputs": [],
   "source": [
    "class ProbabilityDistribution:\n",
    "    \"\"\" Methods of this class generate and display the probability distribution \n",
    "    of uncertain factors/parameters of Risk Model.\n",
    "    \"\"\"\n",
    "    \n",
    "    def __init__(self):\n",
    "        pass\n",
    "                \n",
    "    def getdist_LaborCost(self):\n",
    "        \"\"\" Labor cost data has Discrete Distribution\n",
    "        return distribution of labor cost\n",
    "        \"\"\"\n",
    "        laborCostperVehicle = np.array([1500, 1550, 1600, 1650, 1700])\n",
    "        probability = (0.1, 0.2, 0.4, 0.2, 0.1)\n",
    "        dist = stats.rv_discrete(name='LaborCost', values=(laborCostperVehicle, probability))\n",
    "        return dist\n",
    "    \n",
    "    def getdist_PartCost(self):\n",
    "        \"\"\"Part cost data has Uniform Distribution\n",
    "        return distribution of part cost\n",
    "        \"\"\"\n",
    "        low, high = 16500, 16600\n",
    "        dist = stats.uniform(loc=low, scale=high-low)\n",
    "        return dist\n",
    "    \n",
    "    def getdist_FirstYearDemand(self):\n",
    "        \"\"\" First year demand is normally distributed\n",
    "        return distribution of first year demand\n",
    "        \"\"\"\n",
    "        mean, std = 3000, 900\n",
    "        dist = stats.norm(loc=mean,scale=std)\n",
    "        return dist\n",
    "        \n",
    "    def getdistOfModelUncertainParams(self):\n",
    "        \"\"\" return the distribution of model uncertain factors/parameters\n",
    "        \"\"\"\n",
    "        distOfModelUncertainParams = {}\n",
    "        distOfModelUncertainParams['cl'] = self.getdist_LaborCost()\n",
    "        distOfModelUncertainParams['cpa'] = self.getdist_PartCost()\n",
    "        distOfModelUncertainParams['d'] = self.getdist_FirstYearDemand()\n",
    "        \n",
    "        return distOfModelUncertainParams\n",
    "    \n",
    "    \n",
    "    def displayDist(self, dist = None):\n",
    "        \"\"\" to visulize the distribution of uncertain parameters\n",
    "        \"\"\"\n",
    "        fig = plt.figure(figsize=(15,5))\n",
    "        fig.subplots_adjust(hspace=0.2, wspace=0.4)\n",
    "        fig.suptitle('Probability Distribution of Uncertain Factors', fontsize=15)\n",
    "        \n",
    "        ax1 = fig.add_subplot(1, 3, 1)\n",
    "        x = np.array([1500, 1550, 1600, 1650, 1700])\n",
    "        y = dist['cl'].pmf(x)\n",
    "        ax1.plot(x, y, 'ro', ms=10, mec='r', alpha=0.4, lw=3)\n",
    "        ax1.vlines(x, 0, y, colors='b', lw=4)\n",
    "        ax1.title.set_text(\"Labor Cost Per Vehicle\")\n",
    "        ax1.grid()\n",
    "        \n",
    "        ax2 = fig.add_subplot(1, 3, 2)\n",
    "        x = np.linspace(16500, 16600, 50)\n",
    "        y = dist['cpa'].pdf(x)\n",
    "        ax2.plot(x, y, ls='-', c='blue', alpha=0.4, lw=3)\n",
    "        ax2.plot([x[0],x[-1]], [y[0],y[-1]], 'rs', c='red',linewidth=5)\n",
    "        ax2.title.set_text(\"Part Cost Per Vehicle\")\n",
    "        ax2.grid()\n",
    "        \n",
    "        ax3 = fig.add_subplot(1, 3, 3)\n",
    "        x = np.linspace(dist['d'].ppf(0.01),dist['d'].ppf(0.99),100)\n",
    "        y = dist['d'].pdf(x)\n",
    "        ax3.plot(x, y,'blue', lw=3, alpha=0.4)\n",
    "        ax3.title.set_text(\"Demand\")\n",
    "        ax3.grid()\n",
    "\n",
    "        plt.show()\n",
    "    \n",
    "    def __str__(self):\n",
    "        return \"Probability Distribution\""
   ]
  },
  {
   "cell_type": "markdown",
   "metadata": {},
   "source": [
    "## To build the Risk Analysis Model  "
   ]
  },
  {
   "cell_type": "code",
   "execution_count": 3,
   "metadata": {},
   "outputs": [],
   "source": [
    "class RiskAnalysis:\n",
    "    \n",
    "    def __init__(self, modelParams = None):\n",
    "        self.modelParams = modelParams #Certain Parameters\n",
    "        self.distOfModelUncertainParams = ProbabilityDistribution().getdistOfModelUncertainParams()\n",
    "     \n",
    "    def computeUncertainParam(self, dist):\n",
    "        \"\"\"return randomly computed value of uncertain parameter from the given distribution\n",
    "        \"\"\"\n",
    "        return dist.rvs(size=1)[0]\n",
    "    \n",
    "    def simulateProfit(self, trial, _printResult):\n",
    "        \"\"\" To perform the trial using the random value of uncertain parameters\n",
    "        return computed value of desired quantity(i.e. NetProfit)\n",
    "        \"\"\"\n",
    "        cl = self.computeUncertainParam(self.distOfModelUncertainParams['cl'])\n",
    "        cpa = self.computeUncertainParam(self.distOfModelUncertainParams['cpa'])\n",
    "        d = int(self.computeUncertainParam(self.distOfModelUncertainParams['d']))\n",
    "\n",
    "        netProfit = (self.modelParams['p'] - cl - cpa) * d - self.modelParams['cp'] \n",
    "        \n",
    "        if _printResult:\n",
    "            print('{0:5d} | {1:9d} | {2:5.2f} | {3:6d} | {4:10.2f}'.format(trial,cl,cpa,d,netProfit))\n",
    "               \n",
    "        return netProfit\n",
    "        \n",
    "    def startSimulation(self, n = 0, _printResult = True):\n",
    "        \"\"\" To perform the simulation n number of times \n",
    "        return result of n trials\n",
    "        \"\"\"\n",
    "        if _printResult:\n",
    "            print('{0} | {1} | {2} | {3} | {4}'.format('Trial','LaborCost','PartCost','Demand','NetProfit'))\n",
    "            print(\"=\"*60)\n",
    "        \n",
    "        netProfit_data = []\n",
    "        for i in range(n):\n",
    "            netProfit = self.simulateProfit(i+1, _printResult)\n",
    "            netProfit_data.append(netProfit)\n",
    "        \n",
    "        return netProfit_data\n",
    "    \n",
    "    def __str__(self):\n",
    "        return \"Risk Analysis\"       "
   ]
  },
  {
   "cell_type": "markdown",
   "metadata": {},
   "source": [
    "## Visualize the distribution of uncertain parameters"
   ]
  },
  {
   "cell_type": "code",
   "execution_count": 4,
   "metadata": {},
   "outputs": [
    {
     "data": {
      "image/png": "[encoded data removed]",
      "text/plain": [
       "<Figure size 1080x360 with 3 Axes>"
      ]
     },
     "metadata": {},
     "output_type": "display_data"
    }
   ],
   "source": [
    "pd = ProbabilityDistribution()\n",
    "dists = pd.getdistOfModelUncertainParams()\n",
    "pd.displayDist(dists)"
   ]
  },
  {
   "cell_type": "markdown",
   "metadata": {},
   "source": [
    "## Run Risk Analysis Model"
   ]
  },
  {
   "cell_type": "code",
   "execution_count": 5,
   "metadata": {},
   "outputs": [],
   "source": [
    "model = RiskAnalysis(modelParams = {'p':32800, 'cp':28000000})\n",
    "netProfit_data = model.startSimulation(n = 10000, _printResult = False)"
   ]
  },
  {
   "cell_type": "markdown",
   "metadata": {},
   "source": [
    "## Probability Distribution of desired quantity(i.e. Net Profit)"
   ]
  },
  {
   "cell_type": "code",
   "execution_count": 11,
   "metadata": {},
   "outputs": [
    {
     "data": {
      "text/plain": [
       "<matplotlib.lines.Line2D at 0x1c0e7619390>"
      ]
     },
     "execution_count": 11,
     "metadata": {},
     "output_type": "execute_result"
    },
    {
     "data": {
      "image/png": "[encoded data removed]",
      "text/plain": [
       "<Figure size 432x288 with 1 Axes>"
      ]
     },
     "metadata": {},
     "output_type": "display_data"
    }
   ],
   "source": [
    "ax = sns.distplot(netProfit_data,\n",
    "          bins=100,\n",
    "          kde=True,\n",
    "          color='skyblue',\n",
    "          hist_kws={\"linewidth\": 15,'alpha':1},\n",
    "          kde_kws={\"color\": (0.2,0.3,0.5,0.4), \"lw\": 4, \"label\": \"KDE\"},)\n",
    "ax.set(xlabel='Net Profit', ylabel='Density')\n",
    "ax.axvline(np.mean(netProfit_data),color=(0.2,0.3,0.5,0.4), linestyle='--')"
   ]
  },
  {
   "cell_type": "markdown",
   "metadata": {},
   "source": [
    "## Mean value and Standard Deviation of NetProfit "
   ]
  },
  {
   "cell_type": "code",
   "execution_count": 12,
   "metadata": {},
   "outputs": [
    {
     "name": "stdout",
     "output_type": "stream",
     "text": [
      "Mean of NetProfit: 16088549.70343813 \n",
      "Standard Deviation of NetProfit: 13103153.89642266\n"
     ]
    }
   ],
   "source": [
    "print(\"Mean of NetProfit: {0} \\nStandard Deviation of NetProfit: {1}\".format(np.mean(netProfit_data),np.std(netProfit_data)))"
   ]
  },
  {
   "cell_type": "code",
   "execution_count": null,
   "metadata": {},
   "outputs": [],
   "source": []
  },
  {
   "cell_type": "code",
   "execution_count": null,
   "metadata": {},
   "outputs": [],
   "source": []
  }
 ],
 "metadata": {
  "kernelspec": {
   "display_name": "Python 3",
   "language": "python",
   "name": "python3"
  },
  "language_info": {
   "codemirror_mode": {
    "name": "ipython",
    "version": 3
   },
   "file_extension": ".py",
   "mimetype": "text/x-python",
   "name": "python",
   "nbconvert_exporter": "python",
   "pygments_lexer": "ipython3",
   "version": "3.6.4"
  }
 },
 "nbformat": 4,
 "nbformat_minor": 2
}
